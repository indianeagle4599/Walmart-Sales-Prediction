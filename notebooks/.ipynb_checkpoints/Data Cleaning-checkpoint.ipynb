{
 "cells": [
  {
   "cell_type": "markdown",
   "metadata": {},
   "source": [
    "## Data Cleaning and Preprocessing Notebook\n",
    "\n",
    "This notebook is to be strictly used for data cleaning and preprocessing purposes. Steps:\n",
    "\n",
    "1. Read the dataset\n",
    "2. Handle Missing Values (if any).\n",
    "3. Do visualizations as required\n",
    "4. Explore your data here\n",
    "5. Save the cleaned and processed dataset as `data/final_dataset.csv`.\n",
    "\n",
    "NO MODELLING WILL BE DONE IN THIS NOTEBOOK!"
   ]
  },
  {
   "cell_type": "code",
   "execution_count": null,
   "metadata": {},
   "outputs": [],
   "source": []
  }
 ],
 "metadata": {
  "kernelspec": {
   "display_name": "Python 3",
   "language": "python",
   "name": "python3"
  },
  "language_info": {
   "codemirror_mode": {
    "name": "ipython",
    "version": 3
   },
   "file_extension": ".py",
   "mimetype": "text/x-python",
   "name": "python",
   "nbconvert_exporter": "python",
   "pygments_lexer": "ipython3",
   "version": "3.8.5"
  }
 },
 "nbformat": 4,
 "nbformat_minor": 2
}
